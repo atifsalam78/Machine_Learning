{
 "cells": [
  {
   "cell_type": "code",
   "execution_count": 2,
   "id": "f9fce760-be85-4ddd-b6e1-7bd8de9d4c4e",
   "metadata": {},
   "outputs": [],
   "source": [
    "import pandas as pd\n",
    "import numpy as np\n",
    "import seaborn as sns"
   ]
  },
  {
   "cell_type": "code",
   "execution_count": 4,
   "id": "6af84f6a-4290-4e35-ae7e-dbd0a6ee1643",
   "metadata": {},
   "outputs": [],
   "source": [
    "house_price = pd.read_csv(\"House_Price.csv\")"
   ]
  },
  {
   "cell_type": "code",
   "execution_count": 6,
   "id": "5f414b92-4189-4ed2-9c46-dbcf3662aab0",
   "metadata": {},
   "outputs": [
    {
     "data": {
      "text/html": [
       "<div>\n",
       "<style scoped>\n",
       "    .dataframe tbody tr th:only-of-type {\n",
       "        vertical-align: middle;\n",
       "    }\n",
       "\n",
       "    .dataframe tbody tr th {\n",
       "        vertical-align: top;\n",
       "    }\n",
       "\n",
       "    .dataframe thead th {\n",
       "        text-align: right;\n",
       "    }\n",
       "</style>\n",
       "<table border=\"1\" class=\"dataframe\">\n",
       "  <thead>\n",
       "    <tr style=\"text-align: right;\">\n",
       "      <th></th>\n",
       "      <th>Unnamed: 0</th>\n",
       "      <th>Address</th>\n",
       "      <th>Price</th>\n",
       "      <th>NoOfBedrooms</th>\n",
       "      <th>NoOfBathrooms</th>\n",
       "      <th>AreaSqYards</th>\n",
       "    </tr>\n",
       "  </thead>\n",
       "  <tbody>\n",
       "    <tr>\n",
       "      <th>1151</th>\n",
       "      <td>1247</td>\n",
       "      <td>Falcon Complex New Malir, Malir</td>\n",
       "      <td>69000000.0</td>\n",
       "      <td>4.0</td>\n",
       "      <td>4.0</td>\n",
       "      <td>350</td>\n",
       "    </tr>\n",
       "    <tr>\n",
       "      <th>1947</th>\n",
       "      <td>2121</td>\n",
       "      <td>Bahria Town - Jinnah Avenue, Bahria Town Karachi</td>\n",
       "      <td>13000000.0</td>\n",
       "      <td>2.0</td>\n",
       "      <td>2.0</td>\n",
       "      <td>120</td>\n",
       "    </tr>\n",
       "    <tr>\n",
       "      <th>16575</th>\n",
       "      <td>19101</td>\n",
       "      <td>other</td>\n",
       "      <td>13000000.0</td>\n",
       "      <td>2.0</td>\n",
       "      <td>3.0</td>\n",
       "      <td>89</td>\n",
       "    </tr>\n",
       "    <tr>\n",
       "      <th>11365</th>\n",
       "      <td>13194</td>\n",
       "      <td>DHA Phase 5, DHA Defence</td>\n",
       "      <td>82500000.0</td>\n",
       "      <td>6.0</td>\n",
       "      <td>6.0</td>\n",
       "      <td>600</td>\n",
       "    </tr>\n",
       "    <tr>\n",
       "      <th>1818</th>\n",
       "      <td>1983</td>\n",
       "      <td>DHA Phase 5, DHA Defence</td>\n",
       "      <td>83000000.0</td>\n",
       "      <td>5.0</td>\n",
       "      <td>5.0</td>\n",
       "      <td>500</td>\n",
       "    </tr>\n",
       "  </tbody>\n",
       "</table>\n",
       "</div>"
      ],
      "text/plain": [
       "       Unnamed: 0                                           Address  \\\n",
       "1151         1247                   Falcon Complex New Malir, Malir   \n",
       "1947         2121  Bahria Town - Jinnah Avenue, Bahria Town Karachi   \n",
       "16575       19101                                             other   \n",
       "11365       13194                          DHA Phase 5, DHA Defence   \n",
       "1818         1983                          DHA Phase 5, DHA Defence   \n",
       "\n",
       "            Price  NoOfBedrooms  NoOfBathrooms  AreaSqYards  \n",
       "1151   69000000.0           4.0            4.0          350  \n",
       "1947   13000000.0           2.0            2.0          120  \n",
       "16575  13000000.0           2.0            3.0           89  \n",
       "11365  82500000.0           6.0            6.0          600  \n",
       "1818   83000000.0           5.0            5.0          500  "
      ]
     },
     "execution_count": 6,
     "metadata": {},
     "output_type": "execute_result"
    }
   ],
   "source": [
    "house_price.sample(5)"
   ]
  },
  {
   "cell_type": "code",
   "execution_count": null,
   "id": "491c2650-d919-40cd-8fea-e9ef0b1014a6",
   "metadata": {},
   "outputs": [],
   "source": []
  }
 ],
 "metadata": {
  "kernelspec": {
   "display_name": "Python [conda env:base] *",
   "language": "python",
   "name": "conda-base-py"
  },
  "language_info": {
   "codemirror_mode": {
    "name": "ipython",
    "version": 3
   },
   "file_extension": ".py",
   "mimetype": "text/x-python",
   "name": "python",
   "nbconvert_exporter": "python",
   "pygments_lexer": "ipython3",
   "version": "3.12.7"
  }
 },
 "nbformat": 4,
 "nbformat_minor": 5
}
