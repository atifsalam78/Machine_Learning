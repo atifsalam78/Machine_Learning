{
 "cells": [
  {
   "cell_type": "code",
   "execution_count": 2,
   "id": "0111e97b",
   "metadata": {},
   "outputs": [],
   "source": [
    "import numpy as np\n",
    "from sklearn.linear_model import LinearRegression, Ridge, Lasso, ElasticNet\n",
    "from sklearn.model_selection import train_test_split\n",
    "from sklearn.metrics import r2_score\n",
    "from sklearn.datasets import load_diabetes"
   ]
  },
  {
   "cell_type": "code",
   "execution_count": 3,
   "id": "0e3e2bee",
   "metadata": {},
   "outputs": [],
   "source": [
    "X,y = load_diabetes(return_X_y=True)"
   ]
  },
  {
   "cell_type": "code",
   "execution_count": 4,
   "id": "9a883cde",
   "metadata": {},
   "outputs": [],
   "source": [
    "X_train, X_test, y_train, y_test = train_test_split(X, y, test_size=0.2, random_state=2)"
   ]
  },
  {
   "cell_type": "markdown",
   "id": "0b0d5341",
   "metadata": {},
   "source": [
    "Linear Regression"
   ]
  },
  {
   "cell_type": "code",
   "execution_count": 7,
   "id": "fe375d3d",
   "metadata": {},
   "outputs": [
    {
     "name": "stdout",
     "output_type": "stream",
     "text": [
      "R2 Score: 0.4399338661568968\n",
      "Cooeficients: [  -9.15865318 -205.45432163  516.69374454  340.61999905 -895.5520019\n",
      "  561.22067904  153.89310954  126.73139688  861.12700152   52.42112238]\n",
      "Intercept: 151.88331005254167\n"
     ]
    }
   ],
   "source": [
    "lr = LinearRegression()\n",
    "lr.fit(X_train, y_train)\n",
    "y_pred = lr.predict(X_test)\n",
    "print(\"R2 Score: {}\".format(r2_score(y_test, y_pred)))\n",
    "print(\"Cooeficients: {}\".format(lr.coef_))\n",
    "print(\"Intercept: {}\".format(lr.intercept_))"
   ]
  },
  {
   "cell_type": "markdown",
   "id": "406ee27d",
   "metadata": {},
   "source": [
    "Ridge Regression"
   ]
  },
  {
   "cell_type": "code",
   "execution_count": 8,
   "id": "ff9bd411",
   "metadata": {},
   "outputs": [
    {
     "name": "stdout",
     "output_type": "stream",
     "text": [
      "R2 Score: 0.45199494197195456\n",
      "Cooeficients: [   6.64373321 -172.23747375  485.52958514  314.67584612  -72.94020918\n",
      "  -80.58868817 -174.46352722   83.61470987  484.36531622   73.58509056]\n",
      "Intercept: 151.92546856900984\n"
     ]
    }
   ],
   "source": [
    "rg = Ridge(alpha=0.1)\n",
    "rg.fit(X_train, y_train)\n",
    "y_pred = rg.predict(X_test)\n",
    "print(\"R2 Score: {}\".format(r2_score(y_test, y_pred)))\n",
    "print(\"Cooeficients: {}\".format(rg.coef_))\n",
    "print(\"Intercept: {}\".format(rg.intercept_))"
   ]
  },
  {
   "cell_type": "markdown",
   "id": "672d686b",
   "metadata": {},
   "source": [
    "Lasso Regression"
   ]
  },
  {
   "cell_type": "code",
   "execution_count": 9,
   "id": "585219e6",
   "metadata": {},
   "outputs": [
    {
     "name": "stdout",
     "output_type": "stream",
     "text": [
      "R2 Score: 0.441118559631106\n",
      "Cooeficients: [  -1.35972089 -192.93718018  526.35651446  332.6411011  -430.22697505\n",
      "  191.29547987  -44.03491271   68.98898658  688.39602778   47.94061621]\n",
      "Intercept: 151.87686450031345\n"
     ]
    }
   ],
   "source": [
    "ls = Lasso(alpha=0.01)\n",
    "ls.fit(X_train, y_train)\n",
    "y_pred = ls.predict(X_test)\n",
    "print(\"R2 Score: {}\".format(r2_score(y_test, y_pred)))\n",
    "print(\"Cooeficients: {}\".format(ls.coef_))\n",
    "print(\"Intercept: {}\".format(ls.intercept_))"
   ]
  },
  {
   "cell_type": "markdown",
   "id": "5a5ba838",
   "metadata": {},
   "source": [
    "Elastic Net Regression"
   ]
  },
  {
   "cell_type": "code",
   "execution_count": 10,
   "id": "9388b1a6",
   "metadata": {},
   "outputs": [
    {
     "name": "stdout",
     "output_type": "stream",
     "text": [
      "R2 Score: 0.4531474541554822\n",
      "Cooeficients: [  12.94146674 -150.63182716  454.70979985  297.41151019  -40.62996867\n",
      "  -82.61311124 -175.79746592   88.72693272  438.79775539   81.84968777]\n",
      "Intercept: 151.92650042509422\n"
     ]
    }
   ],
   "source": [
    "en = ElasticNet(alpha=0.005, l1_ratio=0.9)\n",
    "en.fit(X_train, y_train)\n",
    "y_pred = en.predict(X_test)\n",
    "print(\"R2 Score: {}\".format(r2_score(y_test, y_pred)))\n",
    "print(\"Cooeficients: {}\".format(en.coef_))\n",
    "print(\"Intercept: {}\".format(en.intercept_))"
   ]
  },
  {
   "cell_type": "markdown",
   "id": "0ccaaeb6",
   "metadata": {},
   "source": [
    "SGD Regressor"
   ]
  },
  {
   "cell_type": "code",
   "execution_count": 36,
   "id": "89cdc337",
   "metadata": {},
   "outputs": [
    {
     "name": "stdout",
     "output_type": "stream",
     "text": [
      "R2 Score: 0.38817080954332916\n",
      "Cooeficients: [  59.43539386  -20.18861596  246.30148866  180.67587992   38.98192851\n",
      "   11.843179   -135.78727583  118.65874148  229.9085674   113.43878028]\n",
      "Intercept: [151.84384495]\n"
     ]
    },
    {
     "name": "stderr",
     "output_type": "stream",
     "text": [
      "c:\\Users\\atifs\\anaconda3\\Lib\\site-packages\\sklearn\\linear_model\\_stochastic_gradient.py:1616: ConvergenceWarning: Maximum number of iteration reached before convergence. Consider increasing max_iter to improve the fit.\n",
      "  warnings.warn(\n"
     ]
    }
   ],
   "source": [
    "from sklearn.linear_model import SGDRegressor\n",
    "sgd = SGDRegressor(loss=\"squared_error\", alpha=0.005, l1_ratio=0.9, penalty=\"elasticnet\", max_iter=1000)\n",
    "sgd.fit(X_train, y_train)\n",
    "y_pred = sgd.predict(X_test)\n",
    "print(\"R2 Score: {}\".format(r2_score(y_test, y_pred)))\n",
    "print(\"Cooeficients: {}\".format(sgd.coef_))\n",
    "print(\"Intercept: {}\".format(sgd.intercept_))"
   ]
  },
  {
   "cell_type": "code",
   "execution_count": null,
   "id": "c59ec43a",
   "metadata": {},
   "outputs": [],
   "source": []
  }
 ],
 "metadata": {
  "kernelspec": {
   "display_name": "base",
   "language": "python",
   "name": "python3"
  },
  "language_info": {
   "codemirror_mode": {
    "name": "ipython",
    "version": 3
   },
   "file_extension": ".py",
   "mimetype": "text/x-python",
   "name": "python",
   "nbconvert_exporter": "python",
   "pygments_lexer": "ipython3",
   "version": "3.12.7"
  }
 },
 "nbformat": 4,
 "nbformat_minor": 5
}
