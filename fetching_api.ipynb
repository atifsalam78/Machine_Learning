{
 "cells": [
  {
   "cell_type": "code",
   "execution_count": 1,
   "id": "bca552a7-ae21-4deb-8cb1-556271bb33f7",
   "metadata": {},
   "outputs": [],
   "source": [
    "import pandas as pd\n",
    "import requests as re"
   ]
  },
  {
   "cell_type": "code",
   "execution_count": 5,
   "id": "91065231-7eed-40ce-8b4d-00559842cd8a",
   "metadata": {},
   "outputs": [
    {
     "name": "stdout",
     "output_type": "stream",
     "text": [
      "{'location': {'name': 'Boston', 'region': 'Lincolnshire', 'country': 'United Kingdom', 'lat': 53.1, 'lon': -0.13, 'tz_id': 'Europe/London', 'localtime_epoch': 1721485168, 'localtime': '2024-07-20 15:19'}, 'current': {'last_updated_epoch': 1721484900, 'last_updated': '2024-07-20 15:15', 'temp_c': 24.1, 'temp_f': 75.4, 'is_day': 1, 'condition': {'text': 'Partly cloudy', 'icon': '//cdn.weatherapi.com/weather/64x64/day/116.png', 'code': 1003}, 'wind_mph': 16.1, 'wind_kph': 25.9, 'wind_degree': 210, 'wind_dir': 'SSW', 'pressure_mb': 1005.0, 'pressure_in': 29.68, 'precip_mm': 0.04, 'precip_in': 0.0, 'humidity': 69, 'cloud': 75, 'feelslike_c': 25.8, 'feelslike_f': 78.5, 'windchill_c': 22.3, 'windchill_f': 72.1, 'heatindex_c': 24.7, 'heatindex_f': 76.4, 'dewpoint_c': 17.2, 'dewpoint_f': 63.0, 'vis_km': 10.0, 'vis_miles': 6.0, 'uv': 5.0, 'gust_mph': 20.6, 'gust_kph': 33.1}}\n"
     ]
    }
   ],
   "source": [
    "url = \"https://weatherapi-com.p.rapidapi.com/current.json\"\n",
    "\n",
    "querystring = {\"q\":\"53.1,-0.13\"}\n",
    "\n",
    "headers = {\n",
    "\t\"x-rapidapi-key\": \"ed80b0794amsh60bcdf9d982c673p1c9c54jsncbaaf14a7c7c\",\n",
    "\t\"x-rapidapi-host\": \"weatherapi-com.p.rapidapi.com\"\n",
    "}\n",
    "\n",
    "response = re.get(url, headers=headers, params=querystring)\n",
    "\n",
    "print(response.json())"
   ]
  },
  {
   "cell_type": "code",
   "execution_count": null,
   "id": "1781ec07-ab2d-4b26-8a31-3bfd0dbbba6b",
   "metadata": {},
   "outputs": [],
   "source": []
  }
 ],
 "metadata": {
  "kernelspec": {
   "display_name": "Python 3 (ipykernel)",
   "language": "python",
   "name": "python3"
  },
  "language_info": {
   "codemirror_mode": {
    "name": "ipython",
    "version": 3
   },
   "file_extension": ".py",
   "mimetype": "text/x-python",
   "name": "python",
   "nbconvert_exporter": "python",
   "pygments_lexer": "ipython3",
   "version": "3.11.7"
  }
 },
 "nbformat": 4,
 "nbformat_minor": 5
}
