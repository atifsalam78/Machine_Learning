{
 "cells": [
  {
   "cell_type": "code",
   "execution_count": 2,
   "id": "611ac29c",
   "metadata": {},
   "outputs": [],
   "source": [
    "from sklearn.datasets import load_diabetes\n",
    "\n",
    "import numpy as np\n",
    "from sklearn.linear_model import LinearRegression\n",
    "from sklearn.metrics import r2_score\n",
    "from sklearn.model_selection import train_test_split"
   ]
  },
  {
   "cell_type": "code",
   "execution_count": 3,
   "id": "2bce60b3",
   "metadata": {},
   "outputs": [],
   "source": [
    "X, y = load_diabetes(return_X_y=True)"
   ]
  },
  {
   "cell_type": "code",
   "execution_count": 4,
   "id": "c62ce723",
   "metadata": {},
   "outputs": [],
   "source": [
    "X_train, X_test, y_train, y_test = train_test_split(X,y, test_size=0.2, random_state=2)"
   ]
  },
  {
   "cell_type": "code",
   "execution_count": 5,
   "id": "899abf0a",
   "metadata": {},
   "outputs": [
    {
     "name": "stdout",
     "output_type": "stream",
     "text": [
      "0.4399338661568968\n"
     ]
    }
   ],
   "source": [
    "lr = LinearRegression()\n",
    "lr.fit(X_train, y_train)\n",
    "y_pred = lr.predict(X_test)\n",
    "print(r2_score(y_test, y_pred))"
   ]
  },
  {
   "cell_type": "markdown",
   "id": "0a32ec4d",
   "metadata": {},
   "source": [
    "# Own Class"
   ]
  },
  {
   "cell_type": "code",
   "execution_count": 7,
   "id": "e878c47d",
   "metadata": {},
   "outputs": [],
   "source": [
    "import random\n",
    "\n",
    "class MBRegressor:\n",
    "\n",
    "    def __init__(self, batch_size, learning_rate=0.01, epochs=100):\n",
    "\n",
    "        self.coef_ = None\n",
    "        self.intercept_ = None\n",
    "        self.batch_size = batch_size\n",
    "        self.lr = learning_rate\n",
    "        self.epochs = epochs\n",
    "\n",
    "    def fit(self, X_train, y_train):\n",
    "        self.intercept_ = 0\n",
    "        self.coef_ = np.ones(X_train.shape[1])\n",
    "\n",
    "        for i in range(self.epochs):\n",
    "\n",
    "            for j in range(int(X_train.shape[0]/self.batch_size)):\n",
    "                idx = random.sample(range(X_train.shape[0]), self.batch_size)\n",
    "                \n",
    "                \n",
    "                y_hat = np.dot(X_train[idx],self.coef_) + self.intercept_\n",
    "                intercept_der = -2 * np.mean(y_train[idx] - y_hat)\n",
    "                self.intercept_ = self.intercept_ - (self.lr*intercept_der)\n",
    "                \n",
    "                coef_der = -2 * np.dot((y_train[idx] - y_hat),X_train[idx])\n",
    "                self.coef_ = self.coef_ - (self.lr*coef_der)\n",
    "\n",
    "        print(self.coef_, self.intercept_)\n",
    "\n",
    "\n",
    "    \n",
    "    def predict(self, X_test):\n",
    "        return np.dot(X_test, self.coef_) + self.intercept_"
   ]
  },
  {
   "cell_type": "code",
   "execution_count": 8,
   "id": "91f2b10e",
   "metadata": {},
   "outputs": [
    {
     "name": "stdout",
     "output_type": "stream",
     "text": [
      "[  36.17144889 -134.96097539  456.10189321  300.54318051  -22.98029079\n",
      "  -88.53389856 -194.3158398   116.96815019  409.93191343  114.48684384] 151.52103638380262\n",
      "0.452250102281085\n"
     ]
    }
   ],
   "source": [
    "mb = MBRegressor(batch_size=int(X_train.shape[0]/50), learning_rate=0.01, epochs=100)\n",
    "mb.fit(X_train, y_train)\n",
    "y_pred = mb.predict(X_test)\n",
    "print(r2_score(y_test, y_pred))"
   ]
  },
  {
   "cell_type": "markdown",
   "id": "e90a0b96",
   "metadata": {},
   "source": [
    "# Scikit Learn (SGD Regressor)"
   ]
  },
  {
   "cell_type": "code",
   "execution_count": 10,
   "id": "389f79b7",
   "metadata": {},
   "outputs": [],
   "source": [
    "from sklearn.linear_model import SGDRegressor"
   ]
  },
  {
   "cell_type": "code",
   "execution_count": 11,
   "id": "6102ea2c",
   "metadata": {},
   "outputs": [],
   "source": [
    "sgd = SGDRegressor(learning_rate=\"constant\", eta0=0.01)"
   ]
  },
  {
   "cell_type": "code",
   "execution_count": 12,
   "id": "e9a00fee",
   "metadata": {},
   "outputs": [],
   "source": [
    "batch_size = 70\n",
    "\n",
    "for i in range(100):\n",
    "    idx = random.sample(range(X_train.shape[0]), batch_size)\n",
    "    sgd.partial_fit(X_train[idx], y_train[idx])"
   ]
  },
  {
   "cell_type": "code",
   "execution_count": 13,
   "id": "81345e5e",
   "metadata": {},
   "outputs": [
    {
     "data": {
      "text/plain": [
       "array([ 39.14949762,   1.42385337, 121.78337918,  94.36533168,\n",
       "        40.24079585,  28.80748439, -73.06669505,  77.29144374,\n",
       "       122.64293384,  68.25554532])"
      ]
     },
     "execution_count": 13,
     "metadata": {},
     "output_type": "execute_result"
    }
   ],
   "source": [
    "sgd.coef_"
   ]
  },
  {
   "cell_type": "code",
   "execution_count": 14,
   "id": "751a9b15",
   "metadata": {},
   "outputs": [
    {
     "data": {
      "text/plain": [
       "array([151.87174573])"
      ]
     },
     "execution_count": 14,
     "metadata": {},
     "output_type": "execute_result"
    }
   ],
   "source": [
    "sgd.intercept_"
   ]
  },
  {
   "cell_type": "code",
   "execution_count": 15,
   "id": "7f287c36",
   "metadata": {},
   "outputs": [
    {
     "name": "stdout",
     "output_type": "stream",
     "text": [
      "0.26785186576977693\n"
     ]
    }
   ],
   "source": [
    "y_pred = sgd.predict(X_test)\n",
    "print(r2_score(y_test,y_pred))"
   ]
  },
  {
   "cell_type": "code",
   "execution_count": 16,
   "id": "84c47a57",
   "metadata": {},
   "outputs": [],
   "source": [
    "import numpy as np\n",
    "from sklearn.model_selection import train_test_split\n",
    "from sklearn.linear_model import LinearRegression\n",
    "from sklearn.metrics import r2_score\n",
    "from sklearn.datasets import load_diabetes"
   ]
  },
  {
   "cell_type": "code",
   "execution_count": 17,
   "id": "064378c2-6dcc-4013-a468-2363e21e5386",
   "metadata": {},
   "outputs": [],
   "source": [
    "X,y = load_diabetes(return_X_y=True)"
   ]
  },
  {
   "cell_type": "code",
   "execution_count": 18,
   "id": "39873c37-ff20-49e3-93e6-4ec74254e760",
   "metadata": {},
   "outputs": [
    {
     "data": {
      "text/plain": [
       "(442, 10)"
      ]
     },
     "execution_count": 18,
     "metadata": {},
     "output_type": "execute_result"
    }
   ],
   "source": [
    "X.shape"
   ]
  },
  {
   "cell_type": "code",
   "execution_count": 19,
   "id": "fdb24aae-c0b1-4cf4-bff8-988baf8b5db8",
   "metadata": {},
   "outputs": [
    {
     "data": {
      "text/plain": [
       "(442,)"
      ]
     },
     "execution_count": 19,
     "metadata": {},
     "output_type": "execute_result"
    }
   ],
   "source": [
    "y.shape"
   ]
  },
  {
   "cell_type": "code",
   "execution_count": 20,
   "id": "d1665395-f233-4c6a-be05-4dc46a96fcb8",
   "metadata": {},
   "outputs": [],
   "source": [
    "X_train, X_test, y_train, y_test = train_test_split(X,y, test_size=0.2, random_state=2)"
   ]
  },
  {
   "cell_type": "code",
   "execution_count": 21,
   "id": "2666deef-6483-4069-8415-01ae75d11ca8",
   "metadata": {},
   "outputs": [],
   "source": [
    "import random\n",
    "class MBGDRegressor:\n",
    "\n",
    "    def __init__(self, batch_size, learning_rate=0.01, epochs=100):\n",
    "        self.batch_size = batch_size\n",
    "        self.lr = learning_rate\n",
    "        self.epochs = epochs\n",
    "        self.coef = None\n",
    "        self.intercept = None\n",
    "\n",
    "    def fit(self, X_train, y_train):\n",
    "        self.intercept = 0\n",
    "        self.coef = np.ones(X_train.shape[1])\n",
    "\n",
    "        for i in range(self.epochs):\n",
    "            for j in range(int(X_train.shape[0]/self.batch_size)):\n",
    "                idx = random.sample(range(X_train.shape[0]), self.batch_size)\n",
    "                \n",
    "                y_hat = np.dot(X_train[idx], self.coef) + self.intercept\n",
    "                intercept_der = -2 * np.mean(y_train[idx] - y_hat)\n",
    "                self.intercept = self.intercept - (self.lr * intercept_der)\n",
    "\n",
    "                # coef_der = (-2 * np.dot((y_train[idx] - y_hat), X_train[idx]))/X_train[idx].shape[0]\n",
    "                coef_der = -2 * np.dot((y_train[idx] - y_hat),X_train[idx])\n",
    "                self.coef = self.coef - (self.lr * coef_der)\n",
    "        print(self.intercept, self.coef)\n",
    "        \n",
    "\n",
    "    def predict(self, X_test):\n",
    "        return np.dot(X_test, self.coef) + self.intercept"
   ]
  },
  {
   "cell_type": "code",
   "execution_count": 22,
   "id": "b8150f8f-8b73-436d-a0e5-fb7cb1901143",
   "metadata": {},
   "outputs": [],
   "source": [
    "mbgdr = MBGDRegressor(batch_size=10, learning_rate=0.01, epochs=100)"
   ]
  },
  {
   "cell_type": "code",
   "execution_count": 23,
   "id": "e0f7a79d-01bc-4485-9aae-e32ace137de8",
   "metadata": {},
   "outputs": [
    {
     "name": "stdout",
     "output_type": "stream",
     "text": [
      "148.99521477776375 [  29.1789043  -139.41113975  449.9439806   303.6499373   -24.06019768\n",
      "  -96.81492611 -192.36271166  112.73941934  414.95379233  115.04267199]\n"
     ]
    }
   ],
   "source": [
    "mbgdr.fit(X_train,y_train)"
   ]
  },
  {
   "cell_type": "code",
   "execution_count": 24,
   "id": "e32b98f9-386d-437f-8c41-b0628113dd08",
   "metadata": {},
   "outputs": [
    {
     "data": {
      "text/plain": [
       "0.4505817988348563"
      ]
     },
     "execution_count": 24,
     "metadata": {},
     "output_type": "execute_result"
    }
   ],
   "source": [
    "y_pred = mbgdr.predict(X_test)\n",
    "r2_score(y_test, y_pred)"
   ]
  },
  {
   "cell_type": "code",
   "execution_count": 25,
   "id": "62cc35f0-5b81-45f1-a3dd-2ce6263bdbc1",
   "metadata": {},
   "outputs": [
    {
     "data": {
      "text/plain": [
       "[67, 62, 16, 35, 98, 29, 36, 94, 42, 30]"
      ]
     },
     "execution_count": 25,
     "metadata": {},
     "output_type": "execute_result"
    }
   ],
   "source": [
    "random.sample(range(1,100),10)"
   ]
  },
  {
   "cell_type": "code",
   "execution_count": 26,
   "id": "b4e31639-2391-4926-a74d-0ec69ffdae72",
   "metadata": {},
   "outputs": [
    {
     "data": {
      "text/plain": [
       "(10,)"
      ]
     },
     "execution_count": 26,
     "metadata": {},
     "output_type": "execute_result"
    }
   ],
   "source": [
    "X_train[10].shape"
   ]
  },
  {
   "cell_type": "code",
   "execution_count": null,
   "id": "fbfb2f06-a7c6-40e6-9d25-5c90ad82a885",
   "metadata": {},
   "outputs": [],
   "source": []
  }
 ],
 "metadata": {
  "kernelspec": {
   "display_name": "Python [conda env:base] *",
   "language": "python",
   "name": "conda-base-py"
  },
  "language_info": {
   "codemirror_mode": {
    "name": "ipython",
    "version": 3
   },
   "file_extension": ".py",
   "mimetype": "text/x-python",
   "name": "python",
   "nbconvert_exporter": "python",
   "pygments_lexer": "ipython3",
   "version": "3.12.7"
  }
 },
 "nbformat": 4,
 "nbformat_minor": 5
}
