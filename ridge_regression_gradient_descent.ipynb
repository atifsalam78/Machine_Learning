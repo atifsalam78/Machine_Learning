{
 "cells": [
  {
   "cell_type": "code",
   "execution_count": 2,
   "id": "1b18daef",
   "metadata": {},
   "outputs": [],
   "source": [
    "from sklearn.datasets import load_diabetes\n",
    "from sklearn.metrics import r2_score\n",
    "from sklearn.model_selection import train_test_split\n",
    "from sklearn.linear_model import SGDRegressor\n",
    "import numpy as np"
   ]
  },
  {
   "cell_type": "code",
   "execution_count": 4,
   "id": "d781a19f",
   "metadata": {},
   "outputs": [],
   "source": [
    "X, y = load_diabetes(return_X_y=True)"
   ]
  },
  {
   "cell_type": "code",
   "execution_count": 6,
   "id": "cc094779",
   "metadata": {},
   "outputs": [],
   "source": [
    "X_train, X_test, y_train, y_test = train_test_split(X, y, test_size=0.2, random_state=4)"
   ]
  },
  {
   "cell_type": "code",
   "execution_count": 8,
   "id": "964f2acb",
   "metadata": {},
   "outputs": [],
   "source": [
    "reg = SGDRegressor(penalty=\"l2\", max_iter=500, eta0=0.1, learning_rate=\"constant\", alpha=0.001)"
   ]
  },
  {
   "cell_type": "code",
   "execution_count": 10,
   "id": "f7245475",
   "metadata": {},
   "outputs": [
    {
     "name": "stdout",
     "output_type": "stream",
     "text": [
      "0.46070053708935343\n",
      "[  48.50451378 -151.46859148  368.77181673  268.22884679   -4.84210219\n",
      "  -57.86927602 -169.00415289  136.93236495  328.42686825  100.54842685]\n",
      "[158.27477157]\n"
     ]
    }
   ],
   "source": [
    "reg.fit(X_train,y_train)\n",
    "y_pred = reg.predict(X_test)\n",
    "print(r2_score(y_test, y_pred))\n",
    "print(reg.coef_)\n",
    "print(reg.intercept_)"
   ]
  },
  {
   "cell_type": "markdown",
   "id": "f146846c",
   "metadata": {},
   "source": [
    "# Ridge Regression"
   ]
  },
  {
   "cell_type": "code",
   "execution_count": 13,
   "id": "ea2fa566",
   "metadata": {},
   "outputs": [
    {
     "name": "stdout",
     "output_type": "stream",
     "text": [
      "0.4625010162027918\n",
      "[  34.52192778 -290.84083871  482.40181675  368.06786931 -852.44872818\n",
      "  501.59160694  180.11115474  270.76334443  759.73534802   37.49135796]\n",
      "151.101985182554\n"
     ]
    }
   ],
   "source": [
    "from sklearn.linear_model import Ridge\n",
    "rg = Ridge(alpha=0.001, max_iter=500, solver=\"sparse_cg\")\n",
    "rg.fit(X_train, y_train)\n",
    "y_pred = rg.predict(X_test)\n",
    "print(r2_score(y_test, y_pred))\n",
    "print(rg.coef_)\n",
    "print(rg.intercept_)"
   ]
  },
  {
   "cell_type": "code",
   "execution_count": 15,
   "id": "4526a7d4",
   "metadata": {},
   "outputs": [],
   "source": [
    "class MyGDRegressor:\n",
    "\n",
    "    def __init__(self, epochs, learning_rate, alpha):\n",
    "        self.epochs = epochs\n",
    "        self.lr = learning_rate\n",
    "        self.alpha = alpha\n",
    "        self.coef_ = None\n",
    "        self.intercept_ = None\n",
    "\n",
    "    def fit(self, X_train, y_train):\n",
    "        self.coef_ = np.ones(X_train.shape[1])\n",
    "        self.intercept_ = 0\n",
    "        theta = np.insert(self.coef_, 0, self.intercept_)\n",
    "\n",
    "        X_train = np.insert(X_train, 0, 1, axis=1)\n",
    "\n",
    "        for i in range(self.epochs):\n",
    "            theta_der = np.dot(X_train.T, X_train).dot(theta) - np.dot(X_train.T,y_train) + self.alpha*theta\n",
    "            theta = theta - self.lr * theta_der\n",
    "\n",
    "        self.coef_ = theta[1:]\n",
    "        self.intercept_ = theta[0]\n",
    "\n",
    "    def predict(self, X_test):\n",
    "        return np.dot(X_test, self.coef_) + self.intercept_"
   ]
  },
  {
   "cell_type": "code",
   "execution_count": 17,
   "id": "a8f09646",
   "metadata": {},
   "outputs": [
    {
     "name": "stdout",
     "output_type": "stream",
     "text": [
      "0.4735049307123843\n",
      "[  46.7793791  -219.09300433  449.40170514  323.72132129  -28.24350919\n",
      "  -95.16971513 -190.21178936  146.11378967  398.50851788   95.34728499]\n",
      "150.87273314710316\n"
     ]
    }
   ],
   "source": [
    "mySGD = MyGDRegressor(epochs=500, alpha=0.01, learning_rate=0.005)\n",
    "mySGD.fit(X_train, y_train)\n",
    "y_pred = mySGD.predict(X_test)\n",
    "print(r2_score(y_test, y_pred))\n",
    "print(mySGD.coef_)\n",
    "print(mySGD.intercept_)"
   ]
  },
  {
   "cell_type": "code",
   "execution_count": null,
   "id": "9f8b5097",
   "metadata": {},
   "outputs": [],
   "source": []
  }
 ],
 "metadata": {
  "kernelspec": {
   "display_name": "Python [conda env:base] *",
   "language": "python",
   "name": "conda-base-py"
  },
  "language_info": {
   "codemirror_mode": {
    "name": "ipython",
    "version": 3
   },
   "file_extension": ".py",
   "mimetype": "text/x-python",
   "name": "python",
   "nbconvert_exporter": "python",
   "pygments_lexer": "ipython3",
   "version": "3.12.7"
  }
 },
 "nbformat": 4,
 "nbformat_minor": 5
}
