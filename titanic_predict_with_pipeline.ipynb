{
 "cells": [
  {
   "cell_type": "code",
   "execution_count": 4,
   "id": "132ca1ec-af61-4b6e-a3a9-41a9f4113d67",
   "metadata": {},
   "outputs": [],
   "source": [
    "import pickle\n",
    "import numpy as np"
   ]
  },
  {
   "cell_type": "code",
   "execution_count": 6,
   "id": "3fe4697f-e9c0-4822-b1f1-53e94dac74c8",
   "metadata": {},
   "outputs": [],
   "source": [
    "pipe = pickle.load(open(\"models/pipe.pkl\", \"rb\"))"
   ]
  },
  {
   "cell_type": "markdown",
   "id": "0f3a93a3-20db-4407-8e66-53fcd7e56fcb",
   "metadata": {},
   "source": [
    "# Assume user input"
   ]
  },
  {
   "cell_type": "code",
   "execution_count": 9,
   "id": "3594a1c3-2c25-4f98-95e7-b828df2186fb",
   "metadata": {},
   "outputs": [],
   "source": [
    "test_input2 = np.array([2, 'male', 31.0, 0, 0, 10.5, 'S'],dtype=object).reshape(1,7)"
   ]
  },
  {
   "cell_type": "code",
   "execution_count": 11,
   "id": "8d323e69-693e-4e96-a38c-1c68ade9cef2",
   "metadata": {},
   "outputs": [
    {
     "name": "stderr",
     "output_type": "stream",
     "text": [
      "C:\\Users\\atifs\\anaconda3\\Lib\\site-packages\\sklearn\\base.py:493: UserWarning: X does not have valid feature names, but SimpleImputer was fitted with feature names\n",
      "  warnings.warn(\n",
      "C:\\Users\\atifs\\anaconda3\\Lib\\site-packages\\sklearn\\base.py:493: UserWarning: X does not have valid feature names, but SimpleImputer was fitted with feature names\n",
      "  warnings.warn(\n"
     ]
    },
    {
     "data": {
      "text/plain": [
       "array([0], dtype=int64)"
      ]
     },
     "execution_count": 11,
     "metadata": {},
     "output_type": "execute_result"
    }
   ],
   "source": [
    "pipe.predict(test_input2)"
   ]
  },
  {
   "cell_type": "code",
   "execution_count": null,
   "id": "30cc42f0-05c0-4727-baed-65c59caaf792",
   "metadata": {},
   "outputs": [],
   "source": []
  }
 ],
 "metadata": {
  "kernelspec": {
   "display_name": "Python [conda env:base] *",
   "language": "python",
   "name": "conda-base-py"
  },
  "language_info": {
   "codemirror_mode": {
    "name": "ipython",
    "version": 3
   },
   "file_extension": ".py",
   "mimetype": "text/x-python",
   "name": "python",
   "nbconvert_exporter": "python",
   "pygments_lexer": "ipython3",
   "version": "3.12.7"
  }
 },
 "nbformat": 4,
 "nbformat_minor": 5
}
