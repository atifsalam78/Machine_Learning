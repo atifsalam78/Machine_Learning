class MyLR:
    def __init__(self):
        self.m = None
        self.b = None

    def fit(self, X_train, y_train):
        num = 0
        den = 0
        for i in range (X_train.shape[0]):
            num += (X_train[i] - X_train.mean()) * (y_train[i] - y_train.mean())
            den += (X_train[i] - X_train.mean())**2

        self.m = num / den
        self.b = y_train.mean() - (self.m * X_train.mean())
        print(self.m)
        print(self.b)

    def predict(self, X_test):
        print(X_test)


import pandas as pd
import numpy as np


df = pd.read_csv("placement_pack.csv")
df.head()


X = df.iloc[:,0].values
y = df.iloc[:,1].values


y


from sklearn.model_selection import train_test_split
X_train, X_test, y_train, y_test = train_test_split(X, y, test_size=0.2, random_state=2)


lr = MyLR()


lr.fit(X_train, y_train)


lr.predict(X_test)



