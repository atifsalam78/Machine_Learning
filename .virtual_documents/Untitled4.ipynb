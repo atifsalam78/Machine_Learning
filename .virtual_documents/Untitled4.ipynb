from sklearn.datasets import load_diabetes
import numpy as np
from sklearn.linear_model import LinearRegression
from sklearn.metrics import r2_score
from sklearn.model_selection import train_test_split


X, y = load_diabetes(return_X_y=True)


print(X.shape)
print(y.shape)


X_train, X_test, y_train, y_test = train_test_split(X, y, test_size=0.2, random_state=2)


lr = LinearRegression()





print(lr.coef_)



